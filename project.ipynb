{
 "cells": [
  {
   "cell_type": "markdown",
   "metadata": {},
   "source": [
    "\n",
    "# Project: Investigate a Dataset (Medical Appointment No Show)\n",
    "\n",
    "## Table of Contents\n",
    "<ul>\n",
    "<li><a href=\"#intro\">Introduction</a></li>\n",
    "<li><a href=\"#wrangling\">Data Wrangling</a></li>\n",
    "<li><a href=\"#eda\">Exploratory Data Analysis</a></li>\n",
    "<li><a href=\"#conclusions\">Conclusions</a></li>\n",
    "<li><a href=\"#limitations\">Limitations</a></li>\n",
    "<li><a href=\"#ref\">References</a></li>\n",
    "</ul>"
   ]
  },
  {
   "cell_type": "markdown",
   "metadata": {},
   "source": [
    "<a id='intro'></a>\n",
    "## Introduction\n",
    "### About the Dataset\n",
    "Link to Dataset: https://www.kaggle.com/datasets/joniarroba/noshowappointments\n",
    "\n",
    "> **Overview**: The dataset 'Medical Appointment No Shows'; originally gotten from https://www.kaggle.com/datasets/joniarroba/noshowappointments investigates the rate of pateints' attendance for their medical appointment in Brazilian hospitals. Data from over 100,000 medical appointments in Brazil are included in this dataset, with a particular emphasis on the subject of patient attendance. The dataset comprises columns (variables such as:\n",
    "\n",
    "\n",
    ">1. PatientId: Identification of a patient\n",
    ">2. AppointmentID: Identification of each appointment\n",
    ">3. Gender: (Male or Female)\n",
    ">4. Scheduled Day: The day of the actuall appointment, when they have to visit the doctor.\n",
    ">5. Appointment Day: The day someone called or registered the appointment, this is before appointment of course.\n",
    ">6. Age: How old is the patient.\n",
    ">7. Neighbourhood: Where the appointment takes place.\n",
    ">8.Scholarship: (Yes or No)\n",
    ">9. Hipertension: (Yes or No)\n",
    ">10. Diabetes: (Yes or No)\n",
    ">11. Alcoholism: (Yes or No)\n",
    ">12. Handcap: (Yes or No)\n",
    ">13. SMS_received: (1 or more messages sent to the patient)\n",
    ">14. No-show: (True or False). - **Note**: No, means the patient showed up for the appointment and yes, means the patient didn\"t show up.\n",
    "\n",
    "## Research Questions:\n",
    "> 1. The number (Percentage) of Persons who showed up for their appointment**\n",
    "> 2. Does gender affect no show rate.\n",
    "> 3. What is the distribution of the patients' age.\n",
    "> 4. Effect of SMS on No Show rate."
   ]
  },
  {
   "cell_type": "markdown",
   "metadata": {},
   "source": [
    "## Importation of packages needed for this project"
   ]
  },
  {
   "cell_type": "code",
   "execution_count": 409,
   "metadata": {},
   "outputs": [],
   "source": [
    "#Packages need for this project are imported below.\n",
    "import pandas as pd\n",
    "import numpy as np\n",
    "import matplotlib.pyplot as plt\n",
    "%matplotlib inline\n",
    "import seaborn as sns\n",
    "\n"
   ]
  },
  {
   "cell_type": "markdown",
   "metadata": {},
   "source": [
    "<a id='wrangling'></a>\n",
    "# Data Wrangling\n",
    "\n",
    ">  In this section of the report, the dataset will be loaded. To ensure the data is clean for analysis irregularities such as missing values, outliers, duplicate rows in the dataset will be checked.\n",
    "\n"
   ]
  },
  {
   "cell_type": "markdown",
   "metadata": {},
   "source": [
    "### **Loading Data**"
   ]
  },
  {
   "cell_type": "code",
   "execution_count": 410,
   "metadata": {
    "scrolled": false
   },
   "outputs": [
    {
     "data": {
      "text/html": [
       "<div>\n",
       "<style scoped>\n",
       "    .dataframe tbody tr th:only-of-type {\n",
       "        vertical-align: middle;\n",
       "    }\n",
       "\n",
       "    .dataframe tbody tr th {\n",
       "        vertical-align: top;\n",
       "    }\n",
       "\n",
       "    .dataframe thead th {\n",
       "        text-align: right;\n",
       "    }\n",
       "</style>\n",
       "<table border=\"1\" class=\"dataframe\">\n",
       "  <thead>\n",
       "    <tr style=\"text-align: right;\">\n",
       "      <th></th>\n",
       "      <th>PatientId</th>\n",
       "      <th>AppointmentID</th>\n",
       "      <th>Gender</th>\n",
       "      <th>ScheduledDay</th>\n",
       "      <th>AppointmentDay</th>\n",
       "      <th>Age</th>\n",
       "      <th>Neighbourhood</th>\n",
       "      <th>Scholarship</th>\n",
       "      <th>Hipertension</th>\n",
       "      <th>Diabetes</th>\n",
       "      <th>Alcoholism</th>\n",
       "      <th>Handcap</th>\n",
       "      <th>SMS_received</th>\n",
       "      <th>No-show</th>\n",
       "    </tr>\n",
       "  </thead>\n",
       "  <tbody>\n",
       "    <tr>\n",
       "      <th>0</th>\n",
       "      <td>2.987250e+13</td>\n",
       "      <td>5642903</td>\n",
       "      <td>F</td>\n",
       "      <td>2016-04-29T18:38:08Z</td>\n",
       "      <td>2016-04-29T00:00:00Z</td>\n",
       "      <td>62</td>\n",
       "      <td>JARDIM DA PENHA</td>\n",
       "      <td>0</td>\n",
       "      <td>1</td>\n",
       "      <td>0</td>\n",
       "      <td>0</td>\n",
       "      <td>0</td>\n",
       "      <td>0</td>\n",
       "      <td>No</td>\n",
       "    </tr>\n",
       "    <tr>\n",
       "      <th>1</th>\n",
       "      <td>5.589978e+14</td>\n",
       "      <td>5642503</td>\n",
       "      <td>M</td>\n",
       "      <td>2016-04-29T16:08:27Z</td>\n",
       "      <td>2016-04-29T00:00:00Z</td>\n",
       "      <td>56</td>\n",
       "      <td>JARDIM DA PENHA</td>\n",
       "      <td>0</td>\n",
       "      <td>0</td>\n",
       "      <td>0</td>\n",
       "      <td>0</td>\n",
       "      <td>0</td>\n",
       "      <td>0</td>\n",
       "      <td>No</td>\n",
       "    </tr>\n",
       "    <tr>\n",
       "      <th>2</th>\n",
       "      <td>4.262962e+12</td>\n",
       "      <td>5642549</td>\n",
       "      <td>F</td>\n",
       "      <td>2016-04-29T16:19:04Z</td>\n",
       "      <td>2016-04-29T00:00:00Z</td>\n",
       "      <td>62</td>\n",
       "      <td>MATA DA PRAIA</td>\n",
       "      <td>0</td>\n",
       "      <td>0</td>\n",
       "      <td>0</td>\n",
       "      <td>0</td>\n",
       "      <td>0</td>\n",
       "      <td>0</td>\n",
       "      <td>No</td>\n",
       "    </tr>\n",
       "    <tr>\n",
       "      <th>3</th>\n",
       "      <td>8.679512e+11</td>\n",
       "      <td>5642828</td>\n",
       "      <td>F</td>\n",
       "      <td>2016-04-29T17:29:31Z</td>\n",
       "      <td>2016-04-29T00:00:00Z</td>\n",
       "      <td>8</td>\n",
       "      <td>PONTAL DE CAMBURI</td>\n",
       "      <td>0</td>\n",
       "      <td>0</td>\n",
       "      <td>0</td>\n",
       "      <td>0</td>\n",
       "      <td>0</td>\n",
       "      <td>0</td>\n",
       "      <td>No</td>\n",
       "    </tr>\n",
       "    <tr>\n",
       "      <th>4</th>\n",
       "      <td>8.841186e+12</td>\n",
       "      <td>5642494</td>\n",
       "      <td>F</td>\n",
       "      <td>2016-04-29T16:07:23Z</td>\n",
       "      <td>2016-04-29T00:00:00Z</td>\n",
       "      <td>56</td>\n",
       "      <td>JARDIM DA PENHA</td>\n",
       "      <td>0</td>\n",
       "      <td>1</td>\n",
       "      <td>1</td>\n",
       "      <td>0</td>\n",
       "      <td>0</td>\n",
       "      <td>0</td>\n",
       "      <td>No</td>\n",
       "    </tr>\n",
       "  </tbody>\n",
       "</table>\n",
       "</div>"
      ],
      "text/plain": [
       "      PatientId  AppointmentID Gender          ScheduledDay  \\\n",
       "0  2.987250e+13        5642903      F  2016-04-29T18:38:08Z   \n",
       "1  5.589978e+14        5642503      M  2016-04-29T16:08:27Z   \n",
       "2  4.262962e+12        5642549      F  2016-04-29T16:19:04Z   \n",
       "3  8.679512e+11        5642828      F  2016-04-29T17:29:31Z   \n",
       "4  8.841186e+12        5642494      F  2016-04-29T16:07:23Z   \n",
       "\n",
       "         AppointmentDay  Age      Neighbourhood  Scholarship  Hipertension  \\\n",
       "0  2016-04-29T00:00:00Z   62    JARDIM DA PENHA            0             1   \n",
       "1  2016-04-29T00:00:00Z   56    JARDIM DA PENHA            0             0   \n",
       "2  2016-04-29T00:00:00Z   62      MATA DA PRAIA            0             0   \n",
       "3  2016-04-29T00:00:00Z    8  PONTAL DE CAMBURI            0             0   \n",
       "4  2016-04-29T00:00:00Z   56    JARDIM DA PENHA            0             1   \n",
       "\n",
       "   Diabetes  Alcoholism  Handcap  SMS_received No-show  \n",
       "0         0           0        0             0      No  \n",
       "1         0           0        0             0      No  \n",
       "2         0           0        0             0      No  \n",
       "3         0           0        0             0      No  \n",
       "4         1           0        0             0      No  "
      ]
     },
     "execution_count": 410,
     "metadata": {},
     "output_type": "execute_result"
    }
   ],
   "source": [
    "# Loading the database\n",
    "df=pd.read_csv(\"dataset.csv\")\n",
    "df.head()\n"
   ]
  },
  {
   "cell_type": "markdown",
   "metadata": {},
   "source": [
    "> ### **General Properties**:\n",
    "In this subsection, I will be checking the general properties such as the shape of the data; i.e the number of rows and columns, the data types of each column, duplicates rows. Also, a summary statistics and plot of the data will be presented which will further help me give a general overview of the entire dataset. "
   ]
  },
  {
   "cell_type": "code",
   "execution_count": 411,
   "metadata": {},
   "outputs": [
    {
     "data": {
      "text/plain": [
       "(110527, 14)"
      ]
     },
     "execution_count": 411,
     "metadata": {},
     "output_type": "execute_result"
    }
   ],
   "source": [
    "#Checking for the number of rows \n",
    "df.shape"
   ]
  },
  {
   "cell_type": "markdown",
   "metadata": {},
   "source": [
    "> ### **The number of rows and columns**:\n",
    "It is seen from the previous code cell that, the data has **110527 rows and 14 columns**"
   ]
  },
  {
   "cell_type": "markdown",
   "metadata": {},
   "source": [
    "> ### **Checking for data types of each column**\n",
    "The next code cell checks for the data types of the dataset parameters"
   ]
  },
  {
   "cell_type": "code",
   "execution_count": 412,
   "metadata": {},
   "outputs": [
    {
     "data": {
      "text/plain": [
       "PatientId         float64\n",
       "AppointmentID       int64\n",
       "Gender             object\n",
       "ScheduledDay       object\n",
       "AppointmentDay     object\n",
       "Age                 int64\n",
       "Neighbourhood      object\n",
       "Scholarship         int64\n",
       "Hipertension        int64\n",
       "Diabetes            int64\n",
       "Alcoholism          int64\n",
       "Handcap             int64\n",
       "SMS_received        int64\n",
       "No-show            object\n",
       "dtype: object"
      ]
     },
     "execution_count": 412,
     "metadata": {},
     "output_type": "execute_result"
    }
   ],
   "source": [
    "df.dtypes"
   ]
  },
  {
   "cell_type": "code",
   "execution_count": 413,
   "metadata": {},
   "outputs": [
    {
     "name": "stdout",
     "output_type": "stream",
     "text": [
      "There are 0 duplicate\n"
     ]
    }
   ],
   "source": [
    "# Checking for duplicate rows\n",
    "count=df.duplicated().sum()\n",
    "print('There are', count, 'duplicate')"
   ]
  },
  {
   "cell_type": "markdown",
   "metadata": {},
   "source": [
    "> ### **Checking for duplicate rows**\n",
    "The code cell above checks if there are duplicates row in the data.\n",
    "It is seen that, there are no duplicates row."
   ]
  },
  {
   "cell_type": "markdown",
   "metadata": {},
   "source": [
    "> ### **Checking for missing values**\n",
    "There are no missing values in the dataset as seen from the code cell below"
   ]
  },
  {
   "cell_type": "code",
   "execution_count": 414,
   "metadata": {},
   "outputs": [
    {
     "data": {
      "text/plain": [
       "PatientId         0\n",
       "AppointmentID     0\n",
       "Gender            0\n",
       "ScheduledDay      0\n",
       "AppointmentDay    0\n",
       "Age               0\n",
       "Neighbourhood     0\n",
       "Scholarship       0\n",
       "Hipertension      0\n",
       "Diabetes          0\n",
       "Alcoholism        0\n",
       "Handcap           0\n",
       "SMS_received      0\n",
       "No-show           0\n",
       "dtype: int64"
      ]
     },
     "execution_count": 414,
     "metadata": {},
     "output_type": "execute_result"
    }
   ],
   "source": [
    "df.isnull().sum()"
   ]
  },
  {
   "cell_type": "markdown",
   "metadata": {},
   "source": [
    "> ### **Summary of the data**\n",
    "A summary of the data statistics is carried out in the next code cell. \n",
    "I observed that the **Age** variable has a negative value, this is abnormal. Summary statistics for the Age variable will be carried out too.\n",
    "Further queries will be carried out on the Age column to check for further abnormalities. \n"
   ]
  },
  {
   "cell_type": "code",
   "execution_count": 415,
   "metadata": {},
   "outputs": [
    {
     "data": {
      "text/html": [
       "<div>\n",
       "<style scoped>\n",
       "    .dataframe tbody tr th:only-of-type {\n",
       "        vertical-align: middle;\n",
       "    }\n",
       "\n",
       "    .dataframe tbody tr th {\n",
       "        vertical-align: top;\n",
       "    }\n",
       "\n",
       "    .dataframe thead th {\n",
       "        text-align: right;\n",
       "    }\n",
       "</style>\n",
       "<table border=\"1\" class=\"dataframe\">\n",
       "  <thead>\n",
       "    <tr style=\"text-align: right;\">\n",
       "      <th></th>\n",
       "      <th>PatientId</th>\n",
       "      <th>AppointmentID</th>\n",
       "      <th>Age</th>\n",
       "      <th>Scholarship</th>\n",
       "      <th>Hipertension</th>\n",
       "      <th>Diabetes</th>\n",
       "      <th>Alcoholism</th>\n",
       "      <th>Handcap</th>\n",
       "      <th>SMS_received</th>\n",
       "    </tr>\n",
       "  </thead>\n",
       "  <tbody>\n",
       "    <tr>\n",
       "      <th>count</th>\n",
       "      <td>1.105270e+05</td>\n",
       "      <td>1.105270e+05</td>\n",
       "      <td>110527.000000</td>\n",
       "      <td>110527.000000</td>\n",
       "      <td>110527.000000</td>\n",
       "      <td>110527.000000</td>\n",
       "      <td>110527.000000</td>\n",
       "      <td>110527.000000</td>\n",
       "      <td>110527.000000</td>\n",
       "    </tr>\n",
       "    <tr>\n",
       "      <th>mean</th>\n",
       "      <td>1.474963e+14</td>\n",
       "      <td>5.675305e+06</td>\n",
       "      <td>37.088874</td>\n",
       "      <td>0.098266</td>\n",
       "      <td>0.197246</td>\n",
       "      <td>0.071865</td>\n",
       "      <td>0.030400</td>\n",
       "      <td>0.022248</td>\n",
       "      <td>0.321026</td>\n",
       "    </tr>\n",
       "    <tr>\n",
       "      <th>std</th>\n",
       "      <td>2.560949e+14</td>\n",
       "      <td>7.129575e+04</td>\n",
       "      <td>23.110205</td>\n",
       "      <td>0.297675</td>\n",
       "      <td>0.397921</td>\n",
       "      <td>0.258265</td>\n",
       "      <td>0.171686</td>\n",
       "      <td>0.161543</td>\n",
       "      <td>0.466873</td>\n",
       "    </tr>\n",
       "    <tr>\n",
       "      <th>min</th>\n",
       "      <td>3.921784e+04</td>\n",
       "      <td>5.030230e+06</td>\n",
       "      <td>-1.000000</td>\n",
       "      <td>0.000000</td>\n",
       "      <td>0.000000</td>\n",
       "      <td>0.000000</td>\n",
       "      <td>0.000000</td>\n",
       "      <td>0.000000</td>\n",
       "      <td>0.000000</td>\n",
       "    </tr>\n",
       "    <tr>\n",
       "      <th>25%</th>\n",
       "      <td>4.172614e+12</td>\n",
       "      <td>5.640286e+06</td>\n",
       "      <td>18.000000</td>\n",
       "      <td>0.000000</td>\n",
       "      <td>0.000000</td>\n",
       "      <td>0.000000</td>\n",
       "      <td>0.000000</td>\n",
       "      <td>0.000000</td>\n",
       "      <td>0.000000</td>\n",
       "    </tr>\n",
       "    <tr>\n",
       "      <th>50%</th>\n",
       "      <td>3.173184e+13</td>\n",
       "      <td>5.680573e+06</td>\n",
       "      <td>37.000000</td>\n",
       "      <td>0.000000</td>\n",
       "      <td>0.000000</td>\n",
       "      <td>0.000000</td>\n",
       "      <td>0.000000</td>\n",
       "      <td>0.000000</td>\n",
       "      <td>0.000000</td>\n",
       "    </tr>\n",
       "    <tr>\n",
       "      <th>75%</th>\n",
       "      <td>9.439172e+13</td>\n",
       "      <td>5.725524e+06</td>\n",
       "      <td>55.000000</td>\n",
       "      <td>0.000000</td>\n",
       "      <td>0.000000</td>\n",
       "      <td>0.000000</td>\n",
       "      <td>0.000000</td>\n",
       "      <td>0.000000</td>\n",
       "      <td>1.000000</td>\n",
       "    </tr>\n",
       "    <tr>\n",
       "      <th>max</th>\n",
       "      <td>9.999816e+14</td>\n",
       "      <td>5.790484e+06</td>\n",
       "      <td>115.000000</td>\n",
       "      <td>1.000000</td>\n",
       "      <td>1.000000</td>\n",
       "      <td>1.000000</td>\n",
       "      <td>1.000000</td>\n",
       "      <td>4.000000</td>\n",
       "      <td>1.000000</td>\n",
       "    </tr>\n",
       "  </tbody>\n",
       "</table>\n",
       "</div>"
      ],
      "text/plain": [
       "          PatientId  AppointmentID            Age    Scholarship  \\\n",
       "count  1.105270e+05   1.105270e+05  110527.000000  110527.000000   \n",
       "mean   1.474963e+14   5.675305e+06      37.088874       0.098266   \n",
       "std    2.560949e+14   7.129575e+04      23.110205       0.297675   \n",
       "min    3.921784e+04   5.030230e+06      -1.000000       0.000000   \n",
       "25%    4.172614e+12   5.640286e+06      18.000000       0.000000   \n",
       "50%    3.173184e+13   5.680573e+06      37.000000       0.000000   \n",
       "75%    9.439172e+13   5.725524e+06      55.000000       0.000000   \n",
       "max    9.999816e+14   5.790484e+06     115.000000       1.000000   \n",
       "\n",
       "        Hipertension       Diabetes     Alcoholism        Handcap  \\\n",
       "count  110527.000000  110527.000000  110527.000000  110527.000000   \n",
       "mean        0.197246       0.071865       0.030400       0.022248   \n",
       "std         0.397921       0.258265       0.171686       0.161543   \n",
       "min         0.000000       0.000000       0.000000       0.000000   \n",
       "25%         0.000000       0.000000       0.000000       0.000000   \n",
       "50%         0.000000       0.000000       0.000000       0.000000   \n",
       "75%         0.000000       0.000000       0.000000       0.000000   \n",
       "max         1.000000       1.000000       1.000000       4.000000   \n",
       "\n",
       "        SMS_received  \n",
       "count  110527.000000  \n",
       "mean        0.321026  \n",
       "std         0.466873  \n",
       "min         0.000000  \n",
       "25%         0.000000  \n",
       "50%         0.000000  \n",
       "75%         1.000000  \n",
       "max         1.000000  "
      ]
     },
     "execution_count": 415,
     "metadata": {},
     "output_type": "execute_result"
    }
   ],
   "source": [
    "# Getting Summary statistics of the data\n",
    "df.describe()"
   ]
  },
  {
   "cell_type": "code",
   "execution_count": 487,
   "metadata": {},
   "outputs": [
    {
     "data": {
      "image/png": "[encoded data removed]",
      "text/plain": [
       "<Figure size 720x720 with 1 Axes>"
      ]
     },
     "metadata": {
      "needs_background": "light"
     },
     "output_type": "display_data"
    }
   ],
   "source": [
    "df.hist(figsize=(10,10));\n",
    "plots_titles(\"General view of all variables\", \"\", \"Number of Students\")"
   ]
  },
  {
   "cell_type": "markdown",
   "metadata": {},
   "source": [
    "> ### **Summary Statistics of Age Variable**\n",
    "A summary of Age variable is carried out in the next code cell. \n",
    "It is therefore confirmed that, the age variable has negative variable which will be resolved in the cleaning section.\n"
   ]
  },
  {
   "cell_type": "code",
   "execution_count": 417,
   "metadata": {},
   "outputs": [
    {
     "data": {
      "text/plain": [
       "count    110527.000000\n",
       "mean         37.088874\n",
       "std          23.110205\n",
       "min          -1.000000\n",
       "25%          18.000000\n",
       "50%          37.000000\n",
       "75%          55.000000\n",
       "max         115.000000\n",
       "Name: Age, dtype: float64"
      ]
     },
     "execution_count": 417,
     "metadata": {},
     "output_type": "execute_result"
    }
   ],
   "source": [
    "df['Age'].describe()"
   ]
  },
  {
   "cell_type": "markdown",
   "metadata": {},
   "source": [
    "# Data Cleaning \n",
    ">  In this section, uncessary features will be removed)."
   ]
  },
  {
   "cell_type": "markdown",
   "metadata": {},
   "source": [
    ">## Dropping Columns(Variables not needed)\n",
    "I will be dropping columns that are not necessary for analysis\n"
   ]
  },
  {
   "cell_type": "code",
   "execution_count": 418,
   "metadata": {},
   "outputs": [],
   "source": [
    "# Dropping unnecessary columns\n",
    "df.drop(columns=['PatientId','AppointmentID', 'ScheduledDay', 'AppointmentDay', 'Handcap', \n",
    "                 'Scholarship', 'Alcoholism', 'Hipertension','Diabetes'], inplace=True)"
   ]
  },
  {
   "cell_type": "code",
   "execution_count": 419,
   "metadata": {},
   "outputs": [
    {
     "data": {
      "text/html": [
       "<div>\n",
       "<style scoped>\n",
       "    .dataframe tbody tr th:only-of-type {\n",
       "        vertical-align: middle;\n",
       "    }\n",
       "\n",
       "    .dataframe tbody tr th {\n",
       "        vertical-align: top;\n",
       "    }\n",
       "\n",
       "    .dataframe thead th {\n",
       "        text-align: right;\n",
       "    }\n",
       "</style>\n",
       "<table border=\"1\" class=\"dataframe\">\n",
       "  <thead>\n",
       "    <tr style=\"text-align: right;\">\n",
       "      <th></th>\n",
       "      <th>Gender</th>\n",
       "      <th>Age</th>\n",
       "      <th>Neighbourhood</th>\n",
       "      <th>SMS_received</th>\n",
       "      <th>No-show</th>\n",
       "    </tr>\n",
       "  </thead>\n",
       "  <tbody>\n",
       "    <tr>\n",
       "      <th>0</th>\n",
       "      <td>F</td>\n",
       "      <td>62</td>\n",
       "      <td>JARDIM DA PENHA</td>\n",
       "      <td>0</td>\n",
       "      <td>No</td>\n",
       "    </tr>\n",
       "    <tr>\n",
       "      <th>1</th>\n",
       "      <td>M</td>\n",
       "      <td>56</td>\n",
       "      <td>JARDIM DA PENHA</td>\n",
       "      <td>0</td>\n",
       "      <td>No</td>\n",
       "    </tr>\n",
       "    <tr>\n",
       "      <th>2</th>\n",
       "      <td>F</td>\n",
       "      <td>62</td>\n",
       "      <td>MATA DA PRAIA</td>\n",
       "      <td>0</td>\n",
       "      <td>No</td>\n",
       "    </tr>\n",
       "    <tr>\n",
       "      <th>3</th>\n",
       "      <td>F</td>\n",
       "      <td>8</td>\n",
       "      <td>PONTAL DE CAMBURI</td>\n",
       "      <td>0</td>\n",
       "      <td>No</td>\n",
       "    </tr>\n",
       "    <tr>\n",
       "      <th>4</th>\n",
       "      <td>F</td>\n",
       "      <td>56</td>\n",
       "      <td>JARDIM DA PENHA</td>\n",
       "      <td>0</td>\n",
       "      <td>No</td>\n",
       "    </tr>\n",
       "  </tbody>\n",
       "</table>\n",
       "</div>"
      ],
      "text/plain": [
       "  Gender  Age      Neighbourhood  SMS_received No-show\n",
       "0      F   62    JARDIM DA PENHA             0      No\n",
       "1      M   56    JARDIM DA PENHA             0      No\n",
       "2      F   62      MATA DA PRAIA             0      No\n",
       "3      F    8  PONTAL DE CAMBURI             0      No\n",
       "4      F   56    JARDIM DA PENHA             0      No"
      ]
     },
     "execution_count": 419,
     "metadata": {},
     "output_type": "execute_result"
    }
   ],
   "source": [
    "#To confirm\n",
    "df.head()"
   ]
  },
  {
   "cell_type": "markdown",
   "metadata": {},
   "source": [
    "> ### Renaming Variables (Column)\n",
    "This sub-section will rename some columns"
   ]
  },
  {
   "cell_type": "code",
   "execution_count": 420,
   "metadata": {},
   "outputs": [],
   "source": [
    "#renaming the coolumn names\n",
    "df.rename(columns={'No-show':'no_show'}, inplace=True)"
   ]
  },
  {
   "cell_type": "code",
   "execution_count": 421,
   "metadata": {},
   "outputs": [
    {
     "data": {
      "text/html": [
       "<div>\n",
       "<style scoped>\n",
       "    .dataframe tbody tr th:only-of-type {\n",
       "        vertical-align: middle;\n",
       "    }\n",
       "\n",
       "    .dataframe tbody tr th {\n",
       "        vertical-align: top;\n",
       "    }\n",
       "\n",
       "    .dataframe thead th {\n",
       "        text-align: right;\n",
       "    }\n",
       "</style>\n",
       "<table border=\"1\" class=\"dataframe\">\n",
       "  <thead>\n",
       "    <tr style=\"text-align: right;\">\n",
       "      <th></th>\n",
       "      <th>Gender</th>\n",
       "      <th>Age</th>\n",
       "      <th>Neighbourhood</th>\n",
       "      <th>SMS_received</th>\n",
       "      <th>no_show</th>\n",
       "    </tr>\n",
       "  </thead>\n",
       "  <tbody>\n",
       "    <tr>\n",
       "      <th>0</th>\n",
       "      <td>F</td>\n",
       "      <td>62</td>\n",
       "      <td>JARDIM DA PENHA</td>\n",
       "      <td>0</td>\n",
       "      <td>No</td>\n",
       "    </tr>\n",
       "    <tr>\n",
       "      <th>1</th>\n",
       "      <td>M</td>\n",
       "      <td>56</td>\n",
       "      <td>JARDIM DA PENHA</td>\n",
       "      <td>0</td>\n",
       "      <td>No</td>\n",
       "    </tr>\n",
       "    <tr>\n",
       "      <th>2</th>\n",
       "      <td>F</td>\n",
       "      <td>62</td>\n",
       "      <td>MATA DA PRAIA</td>\n",
       "      <td>0</td>\n",
       "      <td>No</td>\n",
       "    </tr>\n",
       "    <tr>\n",
       "      <th>3</th>\n",
       "      <td>F</td>\n",
       "      <td>8</td>\n",
       "      <td>PONTAL DE CAMBURI</td>\n",
       "      <td>0</td>\n",
       "      <td>No</td>\n",
       "    </tr>\n",
       "    <tr>\n",
       "      <th>4</th>\n",
       "      <td>F</td>\n",
       "      <td>56</td>\n",
       "      <td>JARDIM DA PENHA</td>\n",
       "      <td>0</td>\n",
       "      <td>No</td>\n",
       "    </tr>\n",
       "  </tbody>\n",
       "</table>\n",
       "</div>"
      ],
      "text/plain": [
       "  Gender  Age      Neighbourhood  SMS_received no_show\n",
       "0      F   62    JARDIM DA PENHA             0      No\n",
       "1      M   56    JARDIM DA PENHA             0      No\n",
       "2      F   62      MATA DA PRAIA             0      No\n",
       "3      F    8  PONTAL DE CAMBURI             0      No\n",
       "4      F   56    JARDIM DA PENHA             0      No"
      ]
     },
     "execution_count": 421,
     "metadata": {},
     "output_type": "execute_result"
    }
   ],
   "source": [
    "#Confirming if the column has been renamed.\n",
    "df.head()"
   ]
  },
  {
   "cell_type": "markdown",
   "metadata": {},
   "source": [
    ">### Removing rows with negative values.\n",
    "> It is seen that the age variable has negative values from the previous section, the code cell below will remove the rows with negative values. \n"
   ]
  },
  {
   "cell_type": "code",
   "execution_count": 422,
   "metadata": {},
   "outputs": [],
   "source": [
    "# Removing the rows with negative values.\n",
    "df.drop(df[df['Age']<0].index, inplace=True)"
   ]
  },
  {
   "cell_type": "code",
   "execution_count": 423,
   "metadata": {},
   "outputs": [
    {
     "data": {
      "text/plain": [
       "count    110526.000000\n",
       "mean         37.089219\n",
       "std          23.110026\n",
       "min           0.000000\n",
       "25%          18.000000\n",
       "50%          37.000000\n",
       "75%          55.000000\n",
       "max         115.000000\n",
       "Name: Age, dtype: float64"
      ]
     },
     "execution_count": 423,
     "metadata": {},
     "output_type": "execute_result"
    }
   ],
   "source": [
    "# To confirm \n",
    "df['Age'].describe()"
   ]
  },
  {
   "cell_type": "markdown",
   "metadata": {},
   "source": [
    "## Replacing Variable Parameters\n",
    "In this subsection, I will rplace some parameters to make it more presentable, \n",
    "\n",
    "For example, the **Gender** variable is categorized M and F, I will rename it Male and Female respectively.\n",
    "\n",
    "Also, the SMS variables with **0 ***will be replaced with **Not Receievd** and those with **1 ***will be replaced with **Received**. "
   ]
  },
  {
   "cell_type": "code",
   "execution_count": 424,
   "metadata": {},
   "outputs": [],
   "source": [
    "#Replacing M with Male and F with Female.\n",
    "df['Gender'].replace(['F','M'], ['Female','Male'], inplace=True)\n",
    "\n",
    "\n",
    "#Replacing 0 with No and 1 with Yes for Scholarsip variable, Alcoholism,and SMS_received\n",
    "\n",
    "df['SMS_received'].replace([0, 1], ['Not received', 'Received'], inplace=True)\n"
   ]
  },
  {
   "cell_type": "code",
   "execution_count": 425,
   "metadata": {},
   "outputs": [
    {
     "data": {
      "text/html": [
       "<div>\n",
       "<style scoped>\n",
       "    .dataframe tbody tr th:only-of-type {\n",
       "        vertical-align: middle;\n",
       "    }\n",
       "\n",
       "    .dataframe tbody tr th {\n",
       "        vertical-align: top;\n",
       "    }\n",
       "\n",
       "    .dataframe thead th {\n",
       "        text-align: right;\n",
       "    }\n",
       "</style>\n",
       "<table border=\"1\" class=\"dataframe\">\n",
       "  <thead>\n",
       "    <tr style=\"text-align: right;\">\n",
       "      <th></th>\n",
       "      <th>Gender</th>\n",
       "      <th>Age</th>\n",
       "      <th>Neighbourhood</th>\n",
       "      <th>SMS_received</th>\n",
       "      <th>no_show</th>\n",
       "    </tr>\n",
       "  </thead>\n",
       "  <tbody>\n",
       "    <tr>\n",
       "      <th>0</th>\n",
       "      <td>Female</td>\n",
       "      <td>62</td>\n",
       "      <td>JARDIM DA PENHA</td>\n",
       "      <td>Not received</td>\n",
       "      <td>No</td>\n",
       "    </tr>\n",
       "    <tr>\n",
       "      <th>1</th>\n",
       "      <td>Male</td>\n",
       "      <td>56</td>\n",
       "      <td>JARDIM DA PENHA</td>\n",
       "      <td>Not received</td>\n",
       "      <td>No</td>\n",
       "    </tr>\n",
       "    <tr>\n",
       "      <th>2</th>\n",
       "      <td>Female</td>\n",
       "      <td>62</td>\n",
       "      <td>MATA DA PRAIA</td>\n",
       "      <td>Not received</td>\n",
       "      <td>No</td>\n",
       "    </tr>\n",
       "    <tr>\n",
       "      <th>3</th>\n",
       "      <td>Female</td>\n",
       "      <td>8</td>\n",
       "      <td>PONTAL DE CAMBURI</td>\n",
       "      <td>Not received</td>\n",
       "      <td>No</td>\n",
       "    </tr>\n",
       "    <tr>\n",
       "      <th>4</th>\n",
       "      <td>Female</td>\n",
       "      <td>56</td>\n",
       "      <td>JARDIM DA PENHA</td>\n",
       "      <td>Not received</td>\n",
       "      <td>No</td>\n",
       "    </tr>\n",
       "  </tbody>\n",
       "</table>\n",
       "</div>"
      ],
      "text/plain": [
       "   Gender  Age      Neighbourhood  SMS_received no_show\n",
       "0  Female   62    JARDIM DA PENHA  Not received      No\n",
       "1    Male   56    JARDIM DA PENHA  Not received      No\n",
       "2  Female   62      MATA DA PRAIA  Not received      No\n",
       "3  Female    8  PONTAL DE CAMBURI  Not received      No\n",
       "4  Female   56    JARDIM DA PENHA  Not received      No"
      ]
     },
     "execution_count": 425,
     "metadata": {},
     "output_type": "execute_result"
    }
   ],
   "source": [
    "#To confirm if the variable parameters are replaced\n",
    "df.head()"
   ]
  },
  {
   "cell_type": "markdown",
   "metadata": {},
   "source": [
    "<a id='eda'></a>\n",
    "## Exploratory Data Analysis\n",
    "\n"
   ]
  },
  {
   "cell_type": "code",
   "execution_count": 466,
   "metadata": {},
   "outputs": [],
   "source": [
    "#Function to plot bar graphs\n",
    "def bar_plots(dfdata, title, type):\n",
    "        g=dfdata.plot( kind=type , figsize=(15, 8), color= ['teal', 'crimson'])\n",
    "        #g = sns.countplot(data = dfdata, x = xdata, color = gcolor, palette= gpalette)\n",
    "        plt.title(title)\n",
    "    \n",
    "#Function to plot Pie charts\n",
    "def pie_plots(dfdata, title, type):\n",
    "        plt=dfdata.plot(kind=type , figsize=(10, 5), autopct='%1.0f%%')\n",
    "        #g = sns.countplot(data = dfdata, x = xdata, color = gcolor, palette= gpalette)\n",
    "        plt.title(title)\n",
    "        \n",
    "#Function to set the titles, xlabels and ylabels of plots.\n",
    "def plots_titles(title, xlabel, ylabel):\n",
    "        plt.title(title, fontsize = 16, fontweight = 'bold');\n",
    "        plt.xlabel(xlabel, fontsize = 14)\n",
    "        plt.ylabel(ylabel, fontsize = 14)\n",
    "        plt.show()"
   ]
  },
  {
   "cell_type": "markdown",
   "metadata": {},
   "source": [
    ">### Research Question 1: Number of persons who showed for their appointment "
   ]
  },
  {
   "cell_type": "code",
   "execution_count": 427,
   "metadata": {},
   "outputs": [
    {
     "name": "stdout",
     "output_type": "stream",
     "text": [
      "The number of persons who did not show up for their appointment is 22319 \n",
      " Whereas the number of persons who showed up  is 88207\n"
     ]
    }
   ],
   "source": [
    "#Persons who showed up for their medical appointment\n",
    "show=df['no_show'].value_counts().No\n",
    "\n",
    "#Number of persons who did not show up for their medical appointment\n",
    "no_show=df['no_show'].value_counts().Yes\n",
    "print('The number of persons who did not show up for their appointment is', no_show,\n",
    "      '\\n Whereas the number of persons who showed up  is', show)\n",
    "\n"
   ]
  },
  {
   "cell_type": "code",
   "execution_count": 428,
   "metadata": {},
   "outputs": [],
   "source": [
    "#Finding their percentages: \n",
    "#Verifying the total numbers of patients.\n",
    "df.shape\n",
    "total_patients=110526\n",
    "\n"
   ]
  },
  {
   "cell_type": "code",
   "execution_count": 429,
   "metadata": {},
   "outputs": [],
   "source": [
    "\n",
    "#Show Percentage\n",
    "show_percentage=(show/110526)*100\n",
    "show_percentage_rounded='%.2f' % show_percentage\n",
    "\n",
    "#No Show Percentage\n",
    "noshow_percentage=(no_show/110526)*100\n",
    "noshow_percentage_rounded='%.2f' % noshow_percentage\n",
    "\n",
    "plot_data=pd.DataFrame({'': [show, no_show]},\n",
    "                  index=['Number of persons that showed', 'Number of persons that did not show up'])\n",
    "labels=['Patients that Show('+show_percentage_rounded+')', 'Patients that did not Show('+noshow_percentage_rounded+')']\n"
   ]
  },
  {
   "cell_type": "markdown",
   "metadata": {},
   "source": [
    ">### Conclusion:\n",
    ">From the Pie Chart aove, it is seen that, the percentage of those who turn up for their medical appointment is higher than\n",
    "those that did not turn up"
   ]
  },
  {
   "cell_type": "code",
   "execution_count": 469,
   "metadata": {},
   "outputs": [
    {
     "data": {
      "image/png": "[encoded data removed]",
      "text/plain": [
       "<Figure size 1080x576 with 1 Axes>"
      ]
     },
     "metadata": {
      "needs_background": "light"
     },
     "output_type": "display_data"
    },
    {
     "data": {
      "image/png": "[encoded data removed]",
      "text/plain": [
       "<Figure size 864x432 with 1 Axes>"
      ]
     },
     "metadata": {},
     "output_type": "display_data"
    }
   ],
   "source": [
    "# Usin bar plot function to plot the \n",
    "plt.figure(figsize=(12,6))\n",
    "plt.subplot(1,2,1)\n",
    "bar_plots(df.no_show.value_counts(), \"Appointments count based on showing up\", 'bar')\n",
    "plots_titles('Appointments count based on showing up', 'Attent or Not', 'Number of patients')\n",
    "\n",
    "plt.figure(figsize=(12,6))\n",
    "plt.subplot(1,2,2)\n",
    "df.no_show.value_counts().plot(kind='pie',autopct='%1.0f%%')\n",
    "plots_titles('Pie chart showing the rate of patients turn for medical appointments', '', '')"
   ]
  },
  {
   "cell_type": "markdown",
   "metadata": {},
   "source": [
    ">### Research Question 2: Does Gender affects no show rate?"
   ]
  },
  {
   "cell_type": "code",
   "execution_count": 431,
   "metadata": {},
   "outputs": [
    {
     "name": "stdout",
     "output_type": "stream",
     "text": [
      "38687\n",
      "71839\n"
     ]
    }
   ],
   "source": [
    "#Countin the number of females and males\n",
    "no_males=df['Gender'].value_counts().Male\n",
    "print(no_males)\n",
    "\n",
    "no_females=df['Gender'].value_counts().Female\n",
    "print(no_females)"
   ]
  },
  {
   "cell_type": "markdown",
   "metadata": {},
   "source": [
    "> From the code cell above, it is seen that there are 71839 Females in the dataset, and 38687 males.\n",
    "A plot of their distribution and their percenatge ratio is shown in the proceeding code cells"
   ]
  },
  {
   "cell_type": "markdown",
   "metadata": {},
   "source": [
    "### __Bar Chart plot showin the gender distribution__"
   ]
  },
  {
   "cell_type": "code",
   "execution_count": 472,
   "metadata": {},
   "outputs": [
    {
     "data": {
      "image/png": "[encoded data removed]",
      "text/plain": [
       "<Figure size 1080x576 with 1 Axes>"
      ]
     },
     "metadata": {
      "needs_background": "light"
     },
     "output_type": "display_data"
    }
   ],
   "source": [
    "#Plotting Gender Distribution\n",
    "# barplots function usable in subplots for bar pgrahps\n",
    "bar_plots(df.Gender.value_counts(), \"Plot of Gender Distribution\", 'bar')\n",
    "plots_titles('Plot of Gender Distribution', 'Show for appointment or not', 'Number of Patients');\n"
   ]
  },
  {
   "cell_type": "markdown",
   "metadata": {},
   "source": [
    "> ### **Pie Chart plot showin the gender distribution**"
   ]
  },
  {
   "cell_type": "code",
   "execution_count": 473,
   "metadata": {},
   "outputs": [
    {
     "data": {
      "image/png": "[encoded data removed]",
      "text/plain": [
       "<Figure size 720x576 with 1 Axes>"
      ]
     },
     "metadata": {},
     "output_type": "display_data"
    }
   ],
   "source": [
    " #Pie chart plot\n",
    "gender_share = df.Gender.value_counts().plot(kind='pie',autopct='%1.0f%%', figsize=(10, 8), colors= ['teal', 'crimson'],)\n",
    "plt.title('Percentage ratio of gender distribution', fontsize = 14, fontweight = 'bold');\n",
    "plots_titles('Percentage ratio of gender distribution', '', '')\n",
    "\n",
    "\n"
   ]
  },
  {
   "cell_type": "markdown",
   "metadata": {},
   "source": [
    "> ### Gender Distribution\n",
    "> From the plot and the pie chart, it is seen that there are more females than males, implying that females are rather more inclined to seek for medical help or the ratio of females to males is rather high in Brazil. Next I will evaluate if there are more likely to turn up for their medical appointments\n"
   ]
  },
  {
   "cell_type": "markdown",
   "metadata": {},
   "source": [
    ">> ### Calculating the No Show percentage for both gender:\n",
    ">>I will be calculating the percentage of persons who showed up for both gender and visualizing it using a bar chart to obtain the distribution"
   ]
  },
  {
   "cell_type": "code",
   "execution_count": 434,
   "metadata": {
    "scrolled": true
   },
   "outputs": [
    {
     "name": "stdout",
     "output_type": "stream",
     "text": [
      "(110526,)\n",
      "Gender  no_show\n",
      "Female  No         57245\n",
      "        Yes        14594\n",
      "Male    No         30962\n",
      "        Yes         7725\n",
      "Name: Age, dtype: int64\n"
     ]
    }
   ],
   "source": [
    "#Calculating the no show for females.\n",
    "gender_total=df['Gender'].shape\n",
    "print(gender_total)\n",
    "\n",
    "no_shows=df.groupby(['Gender', 'no_show']).count()['Age']\n",
    "print(no_shows)\n",
    "\n"
   ]
  },
  {
   "cell_type": "code",
   "execution_count": 435,
   "metadata": {},
   "outputs": [
    {
     "name": "stdout",
     "output_type": "stream",
     "text": [
      "71839\n",
      "38687\n"
     ]
    }
   ],
   "source": [
    "#total males and females\n",
    "total_female=57245+14594\n",
    "total_male=30962+7725\n",
    "print(total_female)\n",
    "print(total_male)"
   ]
  },
  {
   "cell_type": "code",
   "execution_count": 436,
   "metadata": {
    "scrolled": true
   },
   "outputs": [
    {
     "name": "stdout",
     "output_type": "stream",
     "text": [
      "The percentage of female that showed up is 79.68512924734476 \n",
      " while the percentage of females that did not show up is 20.314870752655242\n"
     ]
    }
   ],
   "source": [
    "#Calculatuing the percentage of those that showed up for their appointments for females\n",
    "\n",
    "female_show=(57245/total_female)*100\n",
    "\n",
    "#Calculatuing the percentage of those that did not showed up for their appointments for females\n",
    "female_noshow=(14594/total_female)*100\n",
    "\n",
    "print(\"The percentage of female that showed up is\", female_show, \n",
    "      '\\n while the percentage of females that did not show up is', female_noshow)"
   ]
  },
  {
   "cell_type": "code",
   "execution_count": 437,
   "metadata": {},
   "outputs": [
    {
     "name": "stdout",
     "output_type": "stream",
     "text": [
      "The percentage of male that showed is 80.03205211052808 \n",
      " while the percentage of male that did not showed up is 19.967947889471915\n"
     ]
    }
   ],
   "source": [
    "male_show=(30962/total_male)*100\n",
    "male_noshow=(7725/total_male)*100\n",
    "print(\"The percentage of male that showed is\", male_show, \n",
    "      '\\n while the percentage of male that did not showed up is', male_noshow)"
   ]
  },
  {
   "cell_type": "markdown",
   "metadata": {},
   "source": [
    ">> ### Percentage of those who showed up for their medical appointmnents for both gender"
   ]
  },
  {
   "cell_type": "code",
   "execution_count": 477,
   "metadata": {},
   "outputs": [
    {
     "data": {
      "image/png": "[encoded data removed]",
      "text/plain": [
       "<Figure size 1080x576 with 1 Axes>"
      ]
     },
     "metadata": {
      "needs_background": "light"
     },
     "output_type": "display_data"
    }
   ],
   "source": [
    "show_data=pd.DataFrame([male_show, female_show], \n",
    "                       index=['Males', 'Females'])\n",
    "#plot1 = show_data.plot( kind='bar' , figsize=(10, 5));#bar plot function is called to visualize the dataser\n",
    "bar_plots(show_data, \"Plot showing those that showed up for their medical appointment by both genders\", 'bar')\n",
    "plots_titles('Plot showing those that showed up for their medical appointment by both genders', 'Showed up or not', 'Number of patients');\n",
    "\n"
   ]
  },
  {
   "cell_type": "markdown",
   "metadata": {},
   "source": [
    ">> ### Percentage of those who did not showed up for their medical appointmnents for both gender"
   ]
  },
  {
   "cell_type": "code",
   "execution_count": 480,
   "metadata": {},
   "outputs": [
    {
     "data": {
      "image/png": "[encoded data removed]",
      "text/plain": [
       "<Figure size 1080x576 with 1 Axes>"
      ]
     },
     "metadata": {
      "needs_background": "light"
     },
     "output_type": "display_data"
    }
   ],
   "source": [
    "no_show_data=pd.DataFrame([male_noshow, female_noshow], index=['Males', 'Females'])\n",
    "#plot2=no_show_data.plot( kind='bar' , figsize=(10, 5));\n",
    "bar_plots(no_show_data, \"Plot showing those that showed up for both genders\", 'bar')\n",
    "plots_titles('Plot showing those that showed up for both genders', \"Showed up or not\", \"% of turn up\");"
   ]
  },
  {
   "cell_type": "markdown",
   "metadata": {},
   "source": [
    ">### Summarily:\n",
    "Even though the female tends to have more scheduled appointments than the male, it is observed that from the above plots that, this does not affect the no show rate. "
   ]
  },
  {
   "cell_type": "markdown",
   "metadata": {},
   "source": [
    "### Research Question 3: What is the distribution of the patients' age"
   ]
  },
  {
   "cell_type": "code",
   "execution_count": 440,
   "metadata": {},
   "outputs": [
    {
     "data": {
      "text/plain": [
       "count    110526.000000\n",
       "mean         37.089219\n",
       "std          23.110026\n",
       "min           0.000000\n",
       "25%          18.000000\n",
       "50%          37.000000\n",
       "75%          55.000000\n",
       "max         115.000000\n",
       "Name: Age, dtype: float64"
      ]
     },
     "execution_count": 440,
     "metadata": {},
     "output_type": "execute_result"
    }
   ],
   "source": [
    "df['Age'].describe()"
   ]
  },
  {
   "cell_type": "code",
   "execution_count": 481,
   "metadata": {},
   "outputs": [
    {
     "data": {
      "image/png": "[encoded data removed]",
      "text/plain": [
       "<Figure size 432x288 with 1 Axes>"
      ]
     },
     "metadata": {
      "needs_background": "light"
     },
     "output_type": "display_data"
    }
   ],
   "source": [
    "df['Age'].plot(kind='hist', title='Stability');\n",
    "plots_titles(\"Age Distribution\", 'Age', 'Number of Students')"
   ]
  },
  {
   "cell_type": "markdown",
   "metadata": {},
   "source": [
    ">From the data, the minimum age is 0.\n",
    "\n",
    ">The maximum age is 115.\n",
    "\n",
    ">The average age is 37 years."
   ]
  },
  {
   "cell_type": "markdown",
   "metadata": {},
   "source": [
    "> ## Question 4: Effect of SMS on No Show rate"
   ]
  },
  {
   "cell_type": "code",
   "execution_count": 442,
   "metadata": {},
   "outputs": [
    {
     "data": {
      "text/html": [
       "<div>\n",
       "<style scoped>\n",
       "    .dataframe tbody tr th:only-of-type {\n",
       "        vertical-align: middle;\n",
       "    }\n",
       "\n",
       "    .dataframe tbody tr th {\n",
       "        vertical-align: top;\n",
       "    }\n",
       "\n",
       "    .dataframe thead th {\n",
       "        text-align: right;\n",
       "    }\n",
       "</style>\n",
       "<table border=\"1\" class=\"dataframe\">\n",
       "  <thead>\n",
       "    <tr style=\"text-align: right;\">\n",
       "      <th>no_show</th>\n",
       "      <th>No</th>\n",
       "      <th>Yes</th>\n",
       "    </tr>\n",
       "    <tr>\n",
       "      <th>SMS_received</th>\n",
       "      <th></th>\n",
       "      <th></th>\n",
       "    </tr>\n",
       "  </thead>\n",
       "  <tbody>\n",
       "    <tr>\n",
       "      <th>Not received</th>\n",
       "      <td>62509</td>\n",
       "      <td>12535</td>\n",
       "    </tr>\n",
       "    <tr>\n",
       "      <th>Received</th>\n",
       "      <td>25698</td>\n",
       "      <td>9784</td>\n",
       "    </tr>\n",
       "  </tbody>\n",
       "</table>\n",
       "</div>"
      ],
      "text/plain": [
       "no_show          No    Yes\n",
       "SMS_received              \n",
       "Not received  62509  12535\n",
       "Received      25698   9784"
      ]
     },
     "execution_count": 442,
     "metadata": {},
     "output_type": "execute_result"
    }
   ],
   "source": [
    "#To create a contigency table\n",
    "neighbourhood = pd.crosstab(df['SMS_received'], df['no_show'], margins = False)\n",
    "neighbourhood_df=pd.DataFrame(neighbourhood)\n",
    "neighbourhood_df.tail(50)"
   ]
  },
  {
   "cell_type": "code",
   "execution_count": 443,
   "metadata": {},
   "outputs": [],
   "source": [
    "#totalnumber of patients who received sms\n",
    "received_total=25698+9784\n",
    "\n",
    "#total number of patients who did not received sms\n",
    "not_received_total=62509+12535"
   ]
  },
  {
   "cell_type": "code",
   "execution_count": 483,
   "metadata": {},
   "outputs": [
    {
     "data": {
      "image/png": "[encoded data removed]",
      "text/plain": [
       "<Figure size 1080x576 with 1 Axes>"
      ]
     },
     "metadata": {
      "needs_background": "light"
     },
     "output_type": "display_data"
    }
   ],
   "source": [
    "#percentage of those who received sms and show up for their appointment.\n",
    "received_show=(25698/received_total)*100\n",
    "\n",
    "\n",
    "#percentage of those who received sms and do not show up for their appointment.\n",
    "received_noshow=(9784/received_total)*100\n",
    "\n",
    "#Plotting their percentages\n",
    "sms_df1=pd.DataFrame([received_show,received_noshow ], index=['Show', 'Do not show'])\n",
    "bar_plots(sms_df1, \"\", 'bar')\n",
    "plots_titles(\"Plot showing those that did received sms and their response for showing up for appointment\",\n",
    "                      \"Show or not\", \"Numer of persons (%) who received sms and sowed up\")"
   ]
  },
  {
   "cell_type": "markdown",
   "metadata": {},
   "source": [
    "> Out of the total number of persons who received SMS, 72% showed up and about 28% did not show up for their appointment"
   ]
  },
  {
   "cell_type": "code",
   "execution_count": 485,
   "metadata": {},
   "outputs": [
    {
     "data": {
      "image/png": "[encoded data removed]",
      "text/plain": [
       "<Figure size 1080x576 with 1 Axes>"
      ]
     },
     "metadata": {
      "needs_background": "light"
     },
     "output_type": "display_data"
    }
   ],
   "source": [
    "\n",
    "#percentage of those who did not received and showed up\n",
    "not_received_show=(62509/not_received_total)*100\n",
    "\n",
    "#Percentage of those who did not received sms and did not showed up\n",
    "not_received_noshow=(12535/not_received_total)*100\n",
    "sms_df2=pd.DataFrame([not_received_show, not_received_noshow], index=['Show', 'No Show'])\n",
    "\n",
    "plot2=bar_plots(sms_df2, \"Plot showing those that did received sms and their response for showing up for appointment\", 'bar')\n",
    "\n",
    "plots_titles(\"Plot showing those that did received sms and their response for showing up for appointment\",\n",
    "                      \"Show or not\", \"Numer of persons (%) who received did not sms and sowed up\")\n",
    "\n",
    "\n"
   ]
  },
  {
   "cell_type": "markdown",
   "metadata": {},
   "source": [
    "> Out of the total number of persons who did not received SMS 83% showed up and about 17% did not showed up for their appointment"
   ]
  },
  {
   "cell_type": "markdown",
   "metadata": {},
   "source": [
    ">> **Then**: I observed that, SMS does not influence the no show rate."
   ]
  },
  {
   "cell_type": "markdown",
   "metadata": {},
   "source": [
    "<a id='conclusions'></a>\n",
    "## Conclusions\n",
    "\n",
    ">From the analysis of the data it can be concluded that:\n",
    "> 1. The percentage of those who turned up for their medical apointment is higher than those who did not turned up.\n",
    "> 2. There are more females than males in the medical appointments scheduled.\n",
    "> 3. The gender factor does not affect the no show rate.\n",
    "> 4. The minimum age of the dataset is 0 year, the maximum age is 115 years and the average age is 37 years.\n",
    "> 5. SMS does not affect No show rate.\n"
   ]
  },
  {
   "cell_type": "markdown",
   "metadata": {},
   "source": [
    "<a id='conclusions'></a>\n",
    "## Limitations\n",
    "\n",
    ">One of the limitation I find in the dataset is that, there is a negative value in the dataset. This was corrected before analysis was carried out. Moreso, while I would have loved to explore the effect patients' neighbourhood has on their showing up for appointment, I could not find a any relationship between the two.\n",
    "\n"
   ]
  },
  {
   "cell_type": "markdown",
   "metadata": {},
   "source": [
    "## References\n"
   ]
  },
  {
   "cell_type": "markdown",
   "metadata": {},
   "source": [
    "> 1. https://www.kaggle.com/datasets/joniarroba/noshowappointments\n",
    "> 2. https://www.kaggle.com/code/joshuaadetayo/medical-no-show-analysis\n",
    "> 3. https://www.kaggle.com/code/asyehia/no-show-appointments"
   ]
  }
 ],
 "metadata": {
  "kernelspec": {
   "display_name": "Python 3",
   "language": "python",
   "name": "python3"
  },
  "language_info": {
   "codemirror_mode": {
    "name": "ipython",
    "version": 3
   },
   "file_extension": ".py",
   "mimetype": "text/x-python",
   "name": "python",
   "nbconvert_exporter": "python",
   "pygments_lexer": "ipython3",
   "version": "3.7.3"
  }
 },
 "nbformat": 4,
 "nbformat_minor": 2
}
